{
 "cells": [
  {
   "cell_type": "code",
   "execution_count": null,
   "metadata": {},
   "outputs": [],
   "source": [
    "import os\n",
    "import cv2\n",
    "import tqdm\n",
    "import queue\n",
    "from thpool import ThreadPool"
   ]
  },
  {
   "cell_type": "code",
   "execution_count": null,
   "metadata": {},
   "outputs": [],
   "source": [
    "def get_filenames(datapath='lane_marking_examples'):\n",
    "    filenames = []\n",
    "    for top, dirs, files in os.walk(datapath):\n",
    "        filenames.extend([os.path.join(top, _file) for _file in files])\n",
    "    filenames.sort()\n",
    "\n",
    "    x_paths = [x for x in filenames if not x.endswith('bin.png')]\n",
    "    y_paths = [x for x in filenames if x.endswith('bin.png')]\n",
    "    \n",
    "    return x_paths, y_paths\n",
    "    \n",
    "x_paths, y_paths = get_filenames()"
   ]
  },
  {
   "cell_type": "code",
   "execution_count": null,
   "metadata": {},
   "outputs": [],
   "source": [
    "def load_image(filepath, resize=True, pic_h=int(2710 / 4), pic_w = int(3384 / 4)):\n",
    "    if resize:\n",
    "        img = cv2.imread(filepath)\n",
    "    else:\n",
    "        img = cv2.resize(cv2.imread(y), (pic_h, pic_w), interpolation=cv2.INTER_NEAREST)\n",
    "        \n",
    "    return filepath, img"
   ]
  },
  {
   "cell_type": "code",
   "execution_count": null,
   "metadata": {},
   "outputs": [],
   "source": [
    "tasks = queue.Queue()\n",
    "out = queue.Queue()\n",
    "\n",
    "for filename in x_paths:\n",
    "    tasks.put((load_image, (filename, True), {}))\n",
    "\n",
    "pool = ThreadPool(tasks, out, threads_number=20)\n",
    "pool.start()\n",
    "for i in tqdm.tqdm_notebook(range(tasks.qsize())):\n",
    "    filename, img = out.get()\n",
    "#     if i > 20:\n",
    "#         pool.stop()\n",
    "#         break"
   ]
  }
 ],
 "metadata": {
  "kernelspec": {
   "display_name": "Python 3",
   "language": "python",
   "name": "python3"
  },
  "language_info": {
   "codemirror_mode": {
    "name": "ipython",
    "version": 3
   },
   "file_extension": ".py",
   "mimetype": "text/x-python",
   "name": "python",
   "nbconvert_exporter": "python",
   "pygments_lexer": "ipython3",
   "version": "3.6.6rc1"
  }
 },
 "nbformat": 4,
 "nbformat_minor": 2
}
