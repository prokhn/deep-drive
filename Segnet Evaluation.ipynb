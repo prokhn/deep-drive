{
 "cells": [
  {
   "cell_type": "code",
   "execution_count": null,
   "metadata": {},
   "outputs": [],
   "source": [
    "import os\n",
    "import gc\n",
    "import cv2\n",
    "import sys\n",
    "import tqdm\n",
    "import random\n",
    "import numpy as np\n",
    "from itertools import product\n",
    "from skimage.io import imsave\n",
    "from multiprocessing import Pool\n",
    "\n",
    "os.environ[\"CUDA_DEVICE_ORDER\"] = 'PCI_BUS_ID'  # see issue #152\n",
    "os.environ[\"CUDA_VISIBLE_DEVICES\"] = '2'\n",
    "\n",
    "from keras.models import model_from_json, load_model\n",
    "from segnet import SegnetBuilder"
   ]
  },
  {
   "cell_type": "code",
   "execution_count": null,
   "metadata": {},
   "outputs": [],
   "source": [
    "# \\ Globals ============\n",
    "PIC_H, PIC_W = 192, 192\n",
    "LABELS_NUMBER = 12\n",
    "PROCESSES = 30"
   ]
  },
  {
   "cell_type": "code",
   "execution_count": null,
   "metadata": {},
   "outputs": [],
   "source": [
    "_jfname = 'Segnet 073.json'\n",
    "_wfname = 'Segnet 044 s[1]b[0_16] best.hdf5'\n",
    "\n",
    "# segnet = SegnetBuilder.build('aaa', PIC_W, PIC_H, 3, LABELS_NUMBER)\n",
    "# segnet.compile(loss='categorical_crossentropy', optimizer='Adam', metrics=['accuracy'])\n",
    "\n",
    "segnet = load_model(f'models/{_wfname}')\n",
    "\n",
    "# segnet.load_weights(f'models/{_wfname}')"
   ]
  },
  {
   "cell_type": "code",
   "execution_count": null,
   "metadata": {},
   "outputs": [],
   "source": [
    "def get_filenames(datapath='lane_marking_examples'):\n",
    "    filenames = []\n",
    "    for top, dirs, files in os.walk(datapath):\n",
    "        filenames.extend([os.path.join(top, _file) for _file in files])\n",
    "    filenames.sort()\n",
    "\n",
    "    x_paths = [x for x in filenames if not x.endswith('bin.png')]\n",
    "    y_paths = [x for x in filenames if x.endswith('bin.png')]\n",
    "\n",
    "    return x_paths, y_paths\n",
    "\n",
    "def predict_to_label(predictions):\n",
    "    labels = {\n",
    "        0:  (0, 0, 0),\n",
    "        1:  (8, 35, 142),\n",
    "        2:  (43, 173, 180),\n",
    "        3:  (153, 102, 153),\n",
    "        4:  (234, 168, 160),\n",
    "        5:  (192, 0, 0),\n",
    "        6:  (8, 32, 128),\n",
    "        7:  (12, 51, 204),\n",
    "        8:  (70, 25, 100),\n",
    "        9:  (14, 57, 230),\n",
    "        10: (75, 47, 190),\n",
    "        11: (255, 255, 255)}\n",
    "\n",
    "    # masks = np.zeros((len(predictions), PIC_H, PIC_W, 3))\n",
    "    masks = []\n",
    "    for ind, pred in enumerate(predictions):\n",
    "        pred = pred.reshape(PIC_H, PIC_W, 12)\n",
    "        pred = np.apply_along_axis(lambda x: np.argmax(x), axis=2, arr=pred)\n",
    "        h_pred = np.zeros((PIC_H, PIC_W, 3), dtype=np.uint8)\n",
    "        for argmax, rgb in labels.items():\n",
    "            h_pred[pred == argmax] = rgb\n",
    "\n",
    "        masks.append(h_pred)\n",
    "\n",
    "    return masks"
   ]
  },
  {
   "cell_type": "code",
   "execution_count": null,
   "metadata": {},
   "outputs": [],
   "source": [
    "def load_one(pathes):\n",
    "    try:\n",
    "        xfilepath, yfilepath = pathes\n",
    "\n",
    "        pic_h = 192\n",
    "        pic_w = 192\n",
    "\n",
    "        # Start: Labels conversion dict ===========================\n",
    "        labels = {\n",
    "            (0, 0, 0):       [1, 0, 0, 0, 0, 0, 0, 0, 0, 0, 0, 0],\n",
    "            (8, 35, 142):    [0, 1, 0, 0, 0, 0, 0, 0, 0, 0, 0, 0],\n",
    "            (43, 173, 180):  [0, 0, 1, 0, 0, 0, 0, 0, 0, 0, 0, 0],\n",
    "            (153, 102, 153): [0, 0, 0, 1, 0, 0, 0, 0, 0, 0, 0, 0],\n",
    "            (234, 168, 160): [0, 0, 0, 0, 1, 0, 0, 0, 0, 0, 0, 0],\n",
    "            (192, 0, 0):     [0, 0, 0, 0, 0, 1, 0, 0, 0, 0, 0, 0],\n",
    "            (8, 32, 128):    [0, 0, 0, 0, 0, 0, 1, 0, 0, 0, 0, 0],\n",
    "            (12, 51, 204):   [0, 0, 0, 0, 0, 0, 0, 1, 0, 0, 0, 0],\n",
    "            (70, 25, 100):   [0, 0, 0, 0, 0, 0, 0, 0, 1, 0, 0, 0],\n",
    "            (14, 57, 230):   [0, 0, 0, 0, 0, 0, 0, 0, 0, 1, 0, 0],\n",
    "            (75, 47, 190):   [0, 0, 0, 0, 0, 0, 0, 0, 0, 0, 1, 0],\n",
    "            (255, 255, 255): [0, 0, 0, 0, 0, 0, 0, 0, 0, 0, 0, 1]}\n",
    "        labels = dict([(k, np.array(v)) for k, v in labels.items()])\n",
    "        # End:   Labels conversion dict ===========================\n",
    "\n",
    "        img = cv2.resize(cv2.imread(xfilepath), (pic_w, pic_h), interpolation=cv2.INTER_NEAREST)\n",
    "        lbl = cv2.resize(cv2.imread(yfilepath), (pic_w, pic_h), interpolation=cv2.INTER_NEAREST)\n",
    "\n",
    "        mask = np.zeros((pic_h, pic_w, len(labels)))\n",
    "        for rgb, categorical_lbl in labels.items():\n",
    "            mask[(lbl == rgb).all(2)] = categorical_lbl\n",
    "\n",
    "        # print('Loaded', xfilepath, end='\\r')\n",
    "        return img, mask\n",
    "    except Exception as e:\n",
    "        print('!!! Exception', e)\n",
    "        return None, None"
   ]
  },
  {
   "cell_type": "code",
   "execution_count": null,
   "metadata": {},
   "outputs": [],
   "source": [
    "x_paths, y_paths = get_filenames()"
   ]
  },
  {
   "cell_type": "code",
   "execution_count": null,
   "metadata": {},
   "outputs": [],
   "source": [
    "pred_index = 210\n",
    "\n",
    "img, mask = load_one([x_paths[pred_index], y_paths[pred_index]])\n",
    "\n",
    "print('Making predictions...')\n",
    "predictions = segnet.predict(np.expand_dims(img, axis=0))\n",
    "\n",
    "print('Converting pred to human mask...')\n",
    "human_pred = predict_to_label(predictions)[0]\n",
    "print('Converting mask to human mask...')\n",
    "human_mask = predict_to_label([mask])[0]\n",
    "\n",
    "print('Saving result...')\n",
    "imsave('img.png', np.concatenate((human_mask, human_pred), axis=0))\n",
    "print('Goto-vo')"
   ]
  },
  {
   "cell_type": "code",
   "execution_count": null,
   "metadata": {},
   "outputs": [],
   "source": [
    "pred = np.apply_along_axis(lambda x: np.argmax(x), axis=2, arr=predictions[0]) # .reshape(PIC_H, PIC_W)\n",
    "pred_true = np.apply_along_axis(lambda x: np.argmax(x), axis=2, arr=mask)   # .reshape(PIC_H, PIC_W)\n",
    "(pred == pred_true).sum() / (pred.shape[0] * pred.shape[1])"
   ]
  }
 ],
 "metadata": {
  "kernelspec": {
   "display_name": "Python 3",
   "language": "python",
   "name": "python3"
  },
  "language_info": {
   "codemirror_mode": {
    "name": "ipython",
    "version": 3
   },
   "file_extension": ".py",
   "mimetype": "text/x-python",
   "name": "python",
   "nbconvert_exporter": "python",
   "pygments_lexer": "ipython3",
   "version": "3.6.6rc1"
  }
 },
 "nbformat": 4,
 "nbformat_minor": 2
}
