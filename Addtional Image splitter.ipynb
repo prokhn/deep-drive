{
 "cells": [
  {
   "cell_type": "code",
   "execution_count": null,
   "metadata": {},
   "outputs": [],
   "source": [
    "import math\n",
    "import random\n",
    "import os\n",
    "import cv2\n",
    "import time\n",
    "import warnings\n",
    "import numpy as np\n",
    "from skimage.io import imread, imsave, imshow\n",
    "from multiprocessing import Pool\n",
    "\n",
    "warnings.simplefilter('ignore')"
   ]
  },
  {
   "cell_type": "code",
   "execution_count": null,
   "metadata": {},
   "outputs": [],
   "source": [
    "def get_filenames(datapath='lane_marking_examples'):\n",
    "    filenames = []\n",
    "    for top, dirs, files in os.walk(datapath):\n",
    "        filenames.extend([os.path.join(top, _file) for _file in files])\n",
    "    filenames.sort()\n",
    "\n",
    "    x_paths = [x for x in filenames if not x.endswith('bin.png')]\n",
    "    y_paths = [x for x in filenames if x.endswith('bin.png')]\n",
    "\n",
    "    return x_paths, y_paths\n",
    "\n",
    "x_paths, y_paths = get_filenames()"
   ]
  },
  {
   "cell_type": "code",
   "execution_count": null,
   "metadata": {},
   "outputs": [],
   "source": [
    "def split_image(xfilepath, yfilepath, ind):\n",
    "    IMG_ORIG_H = 2710\n",
    "    IMG_ORIG_W = 3384\n",
    "    IMG_SPLT_H = 192\n",
    "    IMG_SPLT_W = 192\n",
    "    STEP = 96\n",
    "    \n",
    "    save_path_img = 'data_prepaired/road0203/ColorImage/Record0/'\n",
    "    save_path_lbl = 'data_prepaired/road0203/Label/Record0/'\n",
    "    \n",
    "    img = cv2.imread(xfilepath)\n",
    "    lbl = cv2.imread(yfilepath)\n",
    "    no_white = lbl.copy()\n",
    "    no_white[no_white == 255] = 0\n",
    "    eq_lbl = no_white != np.array([0, 0, 0])\n",
    "    \n",
    "    fname_img = xfilepath.split('/')[-1][:-4] \n",
    "    fname_lbl = yfilepath.split('/')[-1][:-4]\n",
    "    \n",
    "    w, h = 0, 0\n",
    "    _f = True\n",
    "    total = 0\n",
    "    while h + IMG_SPLT_H < IMG_ORIG_H and _f:\n",
    "        w = 0\n",
    "        while w + IMG_SPLT_W < IMG_ORIG_W and _f:\n",
    "            # unqs = np.unique(lbl[h:h+IMG_SPLT_H, w:w+IMG_SPLT_W])\n",
    "            if eq_lbl[h:h+IMG_SPLT_H, w:w+IMG_SPLT_W].sum() / 36864 > 0.4: # or unqs.__len__() > 5:\n",
    "                crop_img = img[h:h+IMG_SPLT_H, w:w+IMG_SPLT_W]\n",
    "                crop_lbl = lbl[h:h+IMG_SPLT_H, w:w+IMG_SPLT_W]\n",
    "                imsave(save_path_img + fname_img + f'_{str(h).zfill(4)}_{str(w).zfill(4)}.png', crop_img)\n",
    "                imsave(save_path_lbl + fname_lbl + f'_{str(h).zfill(4)}_{str(w).zfill(4)} bin.png', crop_lbl)\n",
    "                # _f = False\n",
    "                total += 1\n",
    "            w += STEP\n",
    "        h += STEP\n",
    "    # print(f'Total images saved: {total}')\n",
    "    print(f'Image by index {str(ind).zfill(4)} splitted', end='\\r')"
   ]
  },
  {
   "cell_type": "code",
   "execution_count": null,
   "metadata": {},
   "outputs": [],
   "source": [
    "# pics_to_split = [5750, 8990, 3328, 2210, 6160, 4150, 4200, 10040, 10080, 10135]\n",
    "pics_to_split = [x for x in range(0, 10464, 10)]\n",
    "\n",
    "for ind in pics_to_split:\n",
    "    split_image(x_paths[ind], y_paths[ind], ind)"
   ]
  },
  {
   "cell_type": "code",
   "execution_count": null,
   "metadata": {},
   "outputs": [],
   "source": [
    "p = random.choice(y_paths)\n",
    "print(y_paths.index(p))\n",
    "imshow(cv2.imread(p))"
   ]
  },
  {
   "cell_type": "code",
   "execution_count": null,
   "metadata": {},
   "outputs": [],
   "source": [
    "imshow(cv2.imread(y_paths[7360]))"
   ]
  }
 ],
 "metadata": {
  "kernelspec": {
   "display_name": "Python 3",
   "language": "python",
   "name": "python3"
  },
  "language_info": {
   "codemirror_mode": {
    "name": "ipython",
    "version": 3
   },
   "file_extension": ".py",
   "mimetype": "text/x-python",
   "name": "python",
   "nbconvert_exporter": "python",
   "pygments_lexer": "ipython3",
   "version": "3.6.6rc1"
  }
 },
 "nbformat": 4,
 "nbformat_minor": 2
}
